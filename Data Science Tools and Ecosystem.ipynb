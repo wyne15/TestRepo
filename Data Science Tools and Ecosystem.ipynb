{
 "cells": [
  {
   "cell_type": "markdown",
   "id": "afccb664-52f7-4ced-a0c5-103c5970241b",
   "metadata": {},
   "source": [
    "<center>\n",
    "    <img src=\"https://cf-courses-data.s3.us.cloud-object-storage.appdomain.cloud/IBMDeveloperSkillsNetwork-DS0105EN-SkillsNetwork/labs/Module2/images/SN_web_lightmode.png\" width=\"300\" alt=\"cognitiveclass.ai logo\">\n",
    "</center>\n"
   ]
  },
  {
   "cell_type": "markdown",
   "id": "79bff37a-47e7-402f-81ac-dcdd42b39db4",
   "metadata": {},
   "source": [
    "#### Add your code below following the instructions given in the course"
   ]
  },
  {
   "cell_type": "markdown",
   "id": "5b9a02d4-52cd-4d98-a3ee-0e68745efa88",
   "metadata": {},
   "source": [
    "# Data Science Tools and Ecosystem #"
   ]
  },
  {
   "cell_type": "markdown",
   "id": "c43b1ebc-35ac-4882-97e5-0fd2288cf8c8",
   "metadata": {},
   "source": [
    "In this notebook, Data Science Tools and Ecosystem are summarized."
   ]
  },
  {
   "cell_type": "markdown",
   "id": "d048ee71-2699-431d-9b67-dda3510f7d74",
   "metadata": {},
   "source": [
    "**Objectives:**\n",
    "\n",
    "- List popular languages for Data Science\n",
    "- Create a table of Data Science tools and libraries\n",
    "- Convert minutes to hours by dividing by 60\n",
    "- Run Python code cells and verify outputs\n",
    "- Save and download the notebook"
   ]
  },
  {
   "cell_type": "markdown",
   "id": "5c747034-c2a1-4056-8462-84a743599bd9",
   "metadata": {},
   "source": [
    "**Some of the popular languages that Data Scientists use are:**\n",
    "\n",
    "1. Python\n",
    "2. Julia\n",
    "3. SQL\n",
    "4. JAVA\n",
    "5. R\n"
   ]
  },
  {
   "cell_type": "markdown",
   "id": "a353959b-8223-43dd-bbd3-8285637ac77e",
   "metadata": {},
   "source": [
    "**Some of the commonly used libraries used by Data Scientists include:**\n",
    "\n",
    "1. Pandas\n",
    "2. NumPy\n",
    "3. Seaborn\n",
    "4. Sickit-learn\n",
    "5. Matplotlib"
   ]
  },
  {
   "cell_type": "markdown",
   "id": "db02ce4b-503d-49bb-8f59-60bcd63ad65c",
   "metadata": {},
   "source": [
    "| Data Science Tools |\n",
    "|--------------------|\n",
    "| TensorFlow         |\n",
    "| Jupyter Notebook   |\n",
    "| RStudio            |\n",
    "| Apache Spark       |\n"
   ]
  },
  {
   "cell_type": "markdown",
   "id": "0abf1ee4-a0a1-4b87-8e31-3fbf2c8f3dc1",
   "metadata": {},
   "source": [
    "### Below are a few examples of evaluating arithmetic expressions in Python. ###"
   ]
  },
  {
   "cell_type": "code",
   "execution_count": 10,
   "id": "feb01fef-1670-4f00-ac1c-4176fe7cb3cd",
   "metadata": {},
   "outputs": [
    {
     "data": {
      "text/plain": [
       "17"
      ]
     },
     "execution_count": 10,
     "metadata": {},
     "output_type": "execute_result"
    }
   ],
   "source": [
    "c"
   ]
  },
  {
   "cell_type": "code",
   "execution_count": 8,
   "id": "610f2c34-b5a8-4fb9-a9df-bcd082c01470",
   "metadata": {},
   "outputs": [
    {
     "data": {
      "text/plain": [
       "3.3333333333333335"
      ]
     },
     "execution_count": 8,
     "metadata": {},
     "output_type": "execute_result"
    }
   ],
   "source": [
    "#This will convert 200 minutes to hours by diving by 60.#\n",
    "200/60"
   ]
  },
  {
   "cell_type": "markdown",
   "id": "0657557b-7897-4327-b188-8d75b01e9a98",
   "metadata": {},
   "source": [
    "## Author ##\n",
    "Iulia Dogot\n"
   ]
  }
 ],
 "metadata": {
  "kernelspec": {
   "display_name": "Python 3 (ipykernel)",
   "language": "python",
   "name": "python3"
  },
  "language_info": {
   "codemirror_mode": {
    "name": "ipython",
    "version": 3
   },
   "file_extension": ".py",
   "mimetype": "text/x-python",
   "name": "python",
   "nbconvert_exporter": "python",
   "pygments_lexer": "ipython3",
   "version": "3.12.8"
  }
 },
 "nbformat": 4,
 "nbformat_minor": 5
}
